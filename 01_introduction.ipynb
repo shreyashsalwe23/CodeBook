{
 "cells": [
  {
   "cell_type": "code",
   "execution_count": 2,
   "id": "e3569958-b8aa-4ec6-bd52-94fb425a2cef",
   "metadata": {},
   "outputs": [],
   "source": [
    "import json"
   ]
  },
  {
   "cell_type": "code",
   "execution_count": 3,
   "id": "44a0ab7a-5b78-4756-ba53-1b2f5c3475c1",
   "metadata": {},
   "outputs": [],
   "source": [
    "# Write a function to load the data\n",
    "def load_data(filename):\n",
    "    with open(filename, \"r\") as f:\n",
    "        data = json.load(f)\n",
    "    return data"
   ]
  },
  {
   "cell_type": "code",
   "execution_count": 4,
   "id": "e2ab2276-6d3c-48f9-8d90-bf075a25a7f9",
   "metadata": {},
   "outputs": [],
   "source": [
    "data = load_data(\"data.json\")"
   ]
  },
  {
   "cell_type": "code",
   "execution_count": 5,
   "id": "3351bcb1-a56a-4754-878d-92cf6afae4ce",
   "metadata": {},
   "outputs": [
    {
     "data": {
      "text/plain": [
       "{'users': [{'id': 1, 'name': 'Amit', 'friends': [2, 3], 'liked_pages': [101]},\n",
       "  {'id': 2, 'name': 'Priya', 'friends': [1, 4], 'liked_pages': [102]},\n",
       "  {'id': 3, 'name': 'Rahul', 'friends': [1], 'liked_pages': [101, 103]},\n",
       "  {'id': 4, 'name': 'Sara', 'friends': [2], 'liked_pages': [104]}],\n",
       " 'pages': [{'id': 101, 'name': 'Python Developers'},\n",
       "  {'id': 102, 'name': 'Data Science Enthusiasts'},\n",
       "  {'id': 103, 'name': 'AI & ML Community'},\n",
       "  {'id': 104, 'name': 'Web Dev Hub'}]}"
      ]
     },
     "execution_count": 5,
     "metadata": {},
     "output_type": "execute_result"
    }
   ],
   "source": [
    "data"
   ]
  },
  {
   "cell_type": "code",
   "execution_count": 6,
   "id": "6b89c6cc-54c5-4071-b672-354e1c665036",
   "metadata": {},
   "outputs": [
    {
     "data": {
      "text/plain": [
       "dict"
      ]
     },
     "execution_count": 6,
     "metadata": {},
     "output_type": "execute_result"
    }
   ],
   "source": [
    "type(data)"
   ]
  },
  {
   "cell_type": "code",
   "execution_count": 12,
   "id": "113f91fa-5301-4253-86c2-5789c6f1b720",
   "metadata": {},
   "outputs": [
    {
     "name": "stdout",
     "output_type": "stream",
     "text": [
      "Users and their connections:\n",
      "\n",
      "ID:1 - Amit is friends with: [2, 3] and liked pages are [101]\n",
      "ID:2 - Priya is friends with: [1, 4] and liked pages are [102]\n",
      "ID:3 - Rahul is friends with: [1] and liked pages are [101, 103]\n",
      "ID:4 - Sara is friends with: [2] and liked pages are [104]\n",
      "\n",
      "Pages Information\n",
      "101: Python Developers\n",
      "102: Data Science Enthusiasts\n",
      "103: AI & ML Community\n",
      "104: Web Dev Hub\n"
     ]
    }
   ],
   "source": [
    "# Write a function to display users and their connections\n",
    "def display_users(data):\n",
    "    print(\"Users and their connections:\\n\")\n",
    "    for user in data['users']:\n",
    "        print(f\"ID:{user['id']} - {user['name']} is friends with: {user['friends']} and liked pages are {user['liked_pages']}\")\n",
    "    print(\"\\nPages Information\")\n",
    "    for page in data['pages']:\n",
    "        print(f\"{page['id']}: {page['name']}\")\n",
    "\n",
    "display_users(data)"
   ]
  },
  {
   "cell_type": "code",
   "execution_count": null,
   "id": "df973d15-a395-4a8d-92fb-81ddc0e2a6a3",
   "metadata": {},
   "outputs": [],
   "source": []
  }
 ],
 "metadata": {
  "kernelspec": {
   "display_name": "Python 3 (ipykernel)",
   "language": "python",
   "name": "python3"
  },
  "language_info": {
   "codemirror_mode": {
    "name": "ipython",
    "version": 3
   },
   "file_extension": ".py",
   "mimetype": "text/x-python",
   "name": "python",
   "nbconvert_exporter": "python",
   "pygments_lexer": "ipython3",
   "version": "3.13.5"
  }
 },
 "nbformat": 4,
 "nbformat_minor": 5
}
